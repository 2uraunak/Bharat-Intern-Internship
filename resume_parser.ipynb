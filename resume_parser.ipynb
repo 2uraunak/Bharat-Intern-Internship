import nltk

def find_candidate(resume, keywords):
  """Finds the candidate that matches the keywords most closely.

  Args:
    resume: The resume text.
    keywords: A list of keywords.

  Returns:
    The candidate that matches the keywords most closely.
  """

  tokens = nltk.word_tokenize(resume)
  scores = {}
  for keyword in keywords:
    score = 0
    for token in tokens:
      if keyword in token:
        score += 1
    scores[keyword] = score

  candidate = max(scores, key=scores.get)
  return candidate

if __name__ == "__main__":
  resume = """
  I am a software engineer with 5 years of experience. I am proficient in Python, Java, and C++. I am also familiar with machine learning and natural language processing. I am looking for a challenging position in a fast-paced environment.
  """
  keywords = ["software engineer", "python", "java", "c++", "machine learning", "natural language processing"]
  candidate = find_candidate(resume, keywords)
  print(candidate)
